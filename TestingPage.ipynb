{
 "cells": [
  {
   "cell_type": "code",
   "execution_count": 54,
   "id": "e131a184",
   "metadata": {},
   "outputs": [
    {
     "name": "stdout",
     "output_type": "stream",
     "text": [
      "['0', '0', '0', '0', '0', '0', '0', '0', '0', '0', '0', '0', '0', '0', '0', '0', '0', '0', '0']\n",
      "['0', '0', '0', '0', '0', '0', '0', '0', '0', '0', '0', '0', '0', '0', '0', '0', '0', '0', '0']\n",
      "['0', '1', '2', '0', '0', '2', '2', '2', '1', '0', '0', '0', '0', '0', '0', '0', '0', '0', '0']\n",
      "['0', '0', '1', '2', '0', '0', '0', '0', '1', '0', '0', '0', '0', '0', '0', '0', '0', '0', '0']\n",
      "['0', '0', '0', '1', '2', '0', '0', '0', '0', '0', '0', '0', '0', '0', '0', '0', '0', '0', '0']\n",
      "['0', '0', '0', '0', '1', '2', '2', '0', '0', '0', '0', '0', '0', '0', '0', '0', '0', '0', '0']\n",
      "['0', '0', '1', '1', '0', '1', '0', '0', '0', '0', '0', '0', '0', '0', '0', '0', '0', '0', '0']\n",
      "['0', '0', '0', '0', '0', '0', '2', '1', '0', '0', '0', '0', '0', '0', '0', '0', '0', '0', '0']\n",
      "['0', '0', '0', '0', '0', '0', '0', '0', '0', '0', '0', '0', '0', '0', '0', '0', '0', '0', '0']\n",
      "['0', '0', '0', '0', '0', '0', '0', '0', '0', '0', '0', '0', '0', '0', '0', '0', '0', '0', '0']\n",
      "['0', '0', '0', '0', '0', '0', '0', '0', '0', '0', '0', '0', '0', '0', '0', '0', '0', '0', '0']\n",
      "['0', '0', '0', '0', '0', '0', '0', '0', '0', '0', '0', '0', '0', '0', '0', '0', '0', '0', '0']\n",
      "['0', '0', '0', '0', '0', '0', '0', '0', '0', '0', '0', '0', '0', '0', '0', '0', '0', '0', '0']\n",
      "['0', '0', '0', '0', '0', '0', '0', '0', '0', '0', '0', '0', '0', '0', '0', '0', '0', '0', '0']\n",
      "['0', '0', '0', '0', '0', '0', '0', '0', '0', '0', '0', '0', '0', '0', '0', '0', '0', '0', '0']\n",
      "['0', '0', '0', '0', '0', '0', '0', '0', '0', '0', '0', '0', '0', '0', '0', '0', '0', '0', '0']\n",
      "['0', '0', '0', '0', '0', '0', '0', '0', '0', '0', '0', '0', '0', '0', '0', '0', '0', '0', '0']\n",
      "['0', '0', '0', '0', '0', '0', '0', '0', '0', '0', '0', '0', '0', '0', '0', '0', '0', '0', '0']\n",
      "['0', '0', '0', '0', '0', '0', '0', '0', '0', '0', '0', '0', '0', '0', '0', '0', '0', '0', '0']\n"
     ]
    }
   ],
   "source": [
    "f = open(\"input.txt\", 'r')\n",
    "data = f.read().replace(' ', '')\n",
    "data1 = list(map(str, data.split('\\n')))\n",
    "data_list = []\n",
    "\n",
    "for idx in data1:\n",
    "    data_list.append(list(idx))\n",
    "\n",
    "for i in data_list:\n",
    "    print(i)"
   ]
  },
  {
   "cell_type": "code",
   "execution_count": null,
   "id": "079e466e",
   "metadata": {},
   "outputs": [],
   "source": [
    "1 1 1 0 0\n",
    "1 1 0 1 0\n",
    "1 1 0 0 1\n",
    "1 0 1 1 0\n",
    "1 0 1 0 1\n",
    "1 0 0 1 1\n",
    "0 1 1 1 0\n",
    "0 1 1 0 1\n",
    "0 1 0 1 1\n",
    "0 0 1 1 1"
   ]
  },
  {
   "cell_type": "code",
   "execution_count": 90,
   "id": "b1d4c937",
   "metadata": {},
   "outputs": [
    {
     "name": "stdout",
     "output_type": "stream",
     "text": [
      "3\n",
      "7 5 5 4 9\n",
      "1 1 1 1 \n",
      "2 3 3 2 10\n",
      "1\n"
     ]
    }
   ],
   "source": [
    "from itertools import combinations\n",
    "\n",
    "n = int(input())\n",
    "nlist = []\n",
    "\n",
    "for _ in range(n):\n",
    "    tt = list(map(int, input().split()))\n",
    "    t_max = 0\n",
    "    \n",
    "    for i in combinations(tt, 3):\n",
    "        nm = sum(i)\n",
    "        if t_max<nm%10:\n",
    "            t_max = nm%10\n",
    "    nlist.append(t_max)\n",
    "\n",
    "print(nlist.index(max(nlist))+1)"
   ]
  },
  {
   "cell_type": "code",
   "execution_count": 134,
   "id": "2aa1308b",
   "metadata": {},
   "outputs": [
    {
     "name": "stdout",
     "output_type": "stream",
     "text": [
      "7 2\n",
      "9.3\n",
      "9.5\n",
      "9.6\n",
      "9.8\n",
      "9.1\n",
      "5.0\n",
      "9.3\n",
      "[5.0, 9.1, 9.3, 9.3, 9.5, 9.6, 9.8]\n",
      "[9.3, 9.3, 9.5]\n",
      "9.37\n",
      "9.39\n"
     ]
    }
   ],
   "source": [
    "n, k = map(int, input().split())\n",
    "nlist = []\n",
    "for _ in range(n):\n",
    "    tt = float(input())\n",
    "    nlist.append(tt)\n",
    "nlist.sort()\n",
    "\n",
    "print(f\"{sum(nlist[k:-k]) / (n-k*2):.2f}\") # 절사평균\n",
    "print(f\"{(sum(nlist[k:-k]) + nlist[k]*k + nlist[n-k-1]*k) / n:.2f}\") # 보정평균"
   ]
  },
  {
   "cell_type": "code",
   "execution_count": null,
   "id": "254a4464",
   "metadata": {},
   "outputs": [],
   "source": [
    "def isPrime(n):\n",
    "    for i in range(2, int(n**0.5) + 1):\n",
    "        if n%i == 0:\n",
    "            return False\n",
    "    return True\n",
    "\n",
    "k, l = map(int, input().split())\n",
    "if k%l == 0:\n",
    "    print('GOOD')\n",
    "else:\n",
    "    print(f'BAD {int(k/l)}')"
   ]
  },
  {
   "cell_type": "code",
   "execution_count": 150,
   "id": "3cdf3781",
   "metadata": {},
   "outputs": [
    {
     "name": "stdout",
     "output_type": "stream",
     "text": [
      "60\n",
      "100\n",
      "245\n",
      "64\n"
     ]
    }
   ],
   "source": [
    "def isSquare(t):\n",
    "    return int(t**0.5) ** 2 == t\n",
    "\n",
    "m = int(input())\n",
    "n = int(input())\n",
    "nlist = []\n",
    "[nlist.append(i) for i in range(m, n+1) if isSquare(i)]\n",
    "print(-1) if len(nlist) <= 0 else print(f\"{sum(nlist)}\\n{nlist[0]}\")"
   ]
  },
  {
   "cell_type": "code",
   "execution_count": 197,
   "id": "8605fadd",
   "metadata": {},
   "outputs": [
    {
     "name": "stdout",
     "output_type": "stream",
     "text": [
      "13:52:30\n",
      "15:00:00\n",
      "01:07:30\n"
     ]
    }
   ],
   "source": [
    "nlist = list(map(int, input().split(':')))\n",
    "mlist = list(map(int, input().split(':')))\n",
    "tlist = [0]*3\n",
    "txtlist = []\n",
    "for i in range(3):\n",
    "    if mlist[2-i]-nlist[2-i] < 0:\n",
    "        tlist[1-i] -= 1\n",
    "        tlist[2-i] = 60+mlist[2-i]-nlist[2-i]+tlist[2-i]\n",
    "    else:\n",
    "        tlist[2-i] = mlist[2-i]-nlist[2-i]+tlist[2-i]\n",
    "\n",
    "[txtlist.append('{:02d}'.format(i)) for i in tlist]\n",
    "print(':'.join(txtlist))"
   ]
  },
  {
   "cell_type": "code",
   "execution_count": 210,
   "id": "d80f161a",
   "metadata": {},
   "outputs": [
    {
     "name": "stdout",
     "output_type": "stream",
     "text": [
      "3\n",
      "3\n",
      "3\n",
      "3\n",
      "3\n",
      "3\n",
      "3\n",
      "3\n",
      "3\n",
      "3\n",
      "-24\n"
     ]
    }
   ],
   "source": [
    "nlist = []\n",
    "\n",
    "for i in range(10):\n",
    "    n = int(input())\n",
    "    nlist.append(n)\n",
    "    \n",
    "print(nlist[0]-sum(nlist[1:]))"
   ]
  },
  {
   "cell_type": "code",
   "execution_count": 211,
   "id": "03abd0d7",
   "metadata": {},
   "outputs": [
    {
     "name": "stdout",
     "output_type": "stream",
     "text": [
      "3\n",
      "\n",
      "*\n",
      "**\n",
      "***\n",
      "**\n",
      "*\n"
     ]
    }
   ],
   "source": [
    "n = int(input())\n",
    "for i in range(n):\n",
    "    print('*'*i)\n",
    "\n",
    "for i in range(n):\n",
    "    print('*'*(n-i))\n"
   ]
  },
  {
   "cell_type": "code",
   "execution_count": 216,
   "id": "6a56b122",
   "metadata": {},
   "outputs": [
    {
     "name": "stdout",
     "output_type": "stream",
     "text": [
      "5\n",
      "    *\n",
      "   **\n",
      "  ***\n",
      " ****\n",
      "*****\n",
      " ****\n",
      "  ***\n",
      "   **\n",
      "    *\n"
     ]
    }
   ],
   "source": [
    "n = int(input())\n",
    "for i in range(1, n):\n",
    "    print(' '*(n-i) + '*'*(i))\n",
    "\n",
    "for i in range(n, 0, -1):\n",
    "    print(' '*(n-i) + '*'*(i))"
   ]
  },
  {
   "cell_type": "code",
   "execution_count": 224,
   "id": "87e1dffc",
   "metadata": {},
   "outputs": [
    {
     "name": "stdout",
     "output_type": "stream",
     "text": [
      "10\n",
      "55\n"
     ]
    }
   ],
   "source": [
    "# def fibo(n):\n",
    "#     if n==0:\n",
    "#         return 9\n",
    "#     elif n==1 or n==2:\n",
    "#         return 1\n",
    "#     else:\n",
    "#         return fibo(n-1)+fibo(n-2)\n",
    "\n",
    "def fibo(n):\n",
    "    _curr, _next = 0, 1\n",
    "    for _ in range(n):\n",
    "        _curr, _next = _next, _curr + _next\n",
    "    return _curr\n",
    "\n",
    "n = int(input())\n",
    "print(fibo(n))"
   ]
  },
  {
   "cell_type": "code",
   "execution_count": 226,
   "id": "3338c061",
   "metadata": {},
   "outputs": [
    {
     "name": "stdout",
     "output_type": "stream",
     "text": [
      "2\n",
      "5\n",
      "1 1 1 1 1\n",
      "5\n",
      "7\n",
      "1 2 3 4 5 6 7\n",
      "28\n"
     ]
    }
   ],
   "source": [
    "n = int(input())\n",
    "\n",
    "for _ in range(n):\n",
    "    m = int(input())\n",
    "    mlist = list(map(int, input().split()))\n",
    "    print(sum(mlist))"
   ]
  },
  {
   "cell_type": "code",
   "execution_count": 230,
   "id": "5b28fc70",
   "metadata": {},
   "outputs": [
    {
     "name": "stdout",
     "output_type": "stream",
     "text": [
      "10\n",
      "1 0 1 1 1 0 0 1 1 0\n",
      "1\n",
      "3\n",
      "3\n",
      "4\n",
      "6\n",
      "9\n",
      "9\n",
      "9\n",
      "10\n",
      "12\n",
      "12\n"
     ]
    }
   ],
   "source": [
    "n = int(input())\n",
    "nlist = list(map(int, input().split()))\n",
    "tmp, total = 0, 0\n",
    "\n",
    "for i in range(len(nlist)):\n",
    "    if i == 0:\n",
    "        tmp = nlist[i]\n",
    "    else:\n",
    "        if nlist[i-1] == 1:\n",
    "            tmp += 1\n",
    "        else:\n",
    "            tmp = 0\n",
    "    total += tmp\n",
    "    print(total)\n",
    "    \n",
    "print(total)"
   ]
  },
  {
   "cell_type": "code",
   "execution_count": 271,
   "id": "4b928823",
   "metadata": {
    "scrolled": true
   },
   "outputs": [
    {
     "name": "stdout",
     "output_type": "stream",
     "text": [
      "16\n",
      "1110\n"
     ]
    }
   ],
   "source": [
    "n = list(input())\n",
    "nlist = []\n",
    "for i in range(len(n)):\n",
    "    if i==0:\n",
    "        tmp = format(int(n[i]), 'b')\n",
    "    else:\n",
    "        tmp = format(int(n[i]), '03b')\n",
    "    nlist.append(tmp)\n",
    "    \n",
    "print(''.join(nlist))"
   ]
  },
  {
   "cell_type": "code",
   "execution_count": 274,
   "id": "adcf52aa",
   "metadata": {},
   "outputs": [
    {
     "name": "stdout",
     "output_type": "stream",
     "text": [
      "1\n",
      "5\n",
      "20 28 22 25 21\n",
      "20 28\n"
     ]
    }
   ],
   "source": [
    "t = int(input())\n",
    "\n",
    "for i in range(t):\n",
    "    n = int(input())\n",
    "    nlist = list(map(int, input().split()))\n",
    "    \n",
    "    print(min(nlist), max(nlist))"
   ]
  },
  {
   "cell_type": "code",
   "execution_count": 276,
   "id": "25d21082",
   "metadata": {},
   "outputs": [
    {
     "name": "stdout",
     "output_type": "stream",
     "text": [
      "4 6\n",
      "101111\n",
      "101010\n",
      "101011\n",
      "111011\n"
     ]
    },
    {
     "ename": "TypeError",
     "evalue": "list.append() takes exactly one argument (2 given)",
     "output_type": "error",
     "traceback": [
      "\u001b[0;31m---------------------------------------------------------------------------\u001b[0m",
      "\u001b[0;31mTypeError\u001b[0m                                 Traceback (most recent call last)",
      "Input \u001b[0;32mIn [276]\u001b[0m, in \u001b[0;36m<cell line: 21>\u001b[0;34m()\u001b[0m\n\u001b[1;32m     18\u001b[0m n, m \u001b[38;5;241m=\u001b[39m \u001b[38;5;28mmap\u001b[39m(\u001b[38;5;28mint\u001b[39m, \u001b[38;5;28minput\u001b[39m()\u001b[38;5;241m.\u001b[39msplit())\n\u001b[1;32m     19\u001b[0m arr \u001b[38;5;241m=\u001b[39m [\u001b[38;5;28mlist\u001b[39m(\u001b[38;5;28mmap\u001b[39m(\u001b[38;5;28mint\u001b[39m, \u001b[38;5;28minput\u001b[39m())) \u001b[38;5;28;01mfor\u001b[39;00m _ \u001b[38;5;129;01min\u001b[39;00m \u001b[38;5;28mrange\u001b[39m(n)]\n\u001b[0;32m---> 21\u001b[0m ans \u001b[38;5;241m=\u001b[39m \u001b[43mbfs\u001b[49m\u001b[43m(\u001b[49m\u001b[38;5;241;43m0\u001b[39;49m\u001b[43m,\u001b[49m\u001b[43m \u001b[49m\u001b[38;5;241;43m0\u001b[39;49m\u001b[43m,\u001b[49m\u001b[43m \u001b[49m\u001b[43mn\u001b[49m\u001b[38;5;241;43m-\u001b[39;49m\u001b[38;5;241;43m1\u001b[39;49m\u001b[43m,\u001b[49m\u001b[43m \u001b[49m\u001b[43mm\u001b[49m\u001b[38;5;241;43m-\u001b[39;49m\u001b[38;5;241;43m1\u001b[39;49m\u001b[43m)\u001b[49m\n\u001b[1;32m     22\u001b[0m \u001b[38;5;28mprint\u001b[39m(ans)\n",
      "Input \u001b[0;32mIn [276]\u001b[0m, in \u001b[0;36mbfs\u001b[0;34m(si, sj, ei, ej)\u001b[0m\n\u001b[1;32m      2\u001b[0m q \u001b[38;5;241m=\u001b[39m []\n\u001b[1;32m      3\u001b[0m q \u001b[38;5;241m=\u001b[39m [[\u001b[38;5;241m0\u001b[39m]\u001b[38;5;241m*\u001b[39mm \u001b[38;5;28;01mfor\u001b[39;00m _ \u001b[38;5;129;01min\u001b[39;00m \u001b[38;5;28mrange\u001b[39m(n)]\n\u001b[0;32m----> 4\u001b[0m \u001b[43mq\u001b[49m\u001b[38;5;241;43m.\u001b[39;49m\u001b[43mappend\u001b[49m\u001b[43m(\u001b[49m\u001b[43msi\u001b[49m\u001b[43m,\u001b[49m\u001b[43msj\u001b[49m\u001b[43m)\u001b[49m\n\u001b[1;32m      5\u001b[0m v[si][sj] \u001b[38;5;241m=\u001b[39m \u001b[38;5;241m1\u001b[39m\n\u001b[1;32m      7\u001b[0m \u001b[38;5;28;01mwhile\u001b[39;00m q:\n",
      "\u001b[0;31mTypeError\u001b[0m: list.append() takes exactly one argument (2 given)"
     ]
    }
   ],
   "source": [
    "def bfs(si, sj, ei, ej):\n",
    "    q = []\n",
    "    q = [[0]*m for _ in range(n)]\n",
    "    q.append(si,sj)\n",
    "    v[si][sj] = 1\n",
    "    \n",
    "    while q:\n",
    "        ci, cj = q.pop(0)\n",
    "        if (ci, cj) == (ei, ej):\n",
    "            return v[ei][ej]\n",
    "        \n",
    "        for di, dj in ((-1,0), (1,0), (0,-1), (0,1)):\n",
    "            ni, nj = ci+di, cj+dj\n",
    "            if 0<=ni<n and 0<=nj<m and arr[ni][nj]==1 and v[ni][nj]==0:\n",
    "                q.append((ni, nj))  \n",
    "                v[ni][nj] = v[ci][cj]+1\n",
    "\n",
    "n, m = map(int, input().split())\n",
    "arr = [list(map(int, input())) for _ in range(n)]\n",
    "\n",
    "ans = bfs(0, 0, n-1, m-1)\n",
    "print(ans)"
   ]
  },
  {
   "cell_type": "code",
   "execution_count": null,
   "id": "3b39a2dd",
   "metadata": {},
   "outputs": [],
   "source": [
    "def dfs(graph, root):\n",
    "    visited = []\n",
    "    stack = [root]\n",
    "    \n",
    "    while stack:\n",
    "        n = stack.pop()\n",
    "        if n not in visited:\n",
    "            visited.append(n)\n",
    "            stack += graph[n]-set(visited)\n",
    "    return visited\n",
    "\n",
    "n, m = map(int, input().split())\n",
    "\n",
    "for i in range(m):\n",
    "    u, v = map(int, input().split())\n",
    "    "
   ]
  }
 ],
 "metadata": {
  "kernelspec": {
   "display_name": "Python 3 (ipykernel)",
   "language": "python",
   "name": "python3"
  },
  "language_info": {
   "codemirror_mode": {
    "name": "ipython",
    "version": 3
   },
   "file_extension": ".py",
   "mimetype": "text/x-python",
   "name": "python",
   "nbconvert_exporter": "python",
   "pygments_lexer": "ipython3",
   "version": "3.9.12"
  }
 },
 "nbformat": 4,
 "nbformat_minor": 5
}
